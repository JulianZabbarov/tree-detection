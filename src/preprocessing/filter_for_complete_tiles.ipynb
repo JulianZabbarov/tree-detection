{
 "cells": [
  {
   "cell_type": "code",
   "execution_count": 3,
   "metadata": {},
   "outputs": [
    {
     "name": "stdout",
     "output_type": "stream",
     "text": [
      "/Users/julianzabbarov/Documents/HPI\n"
     ]
    }
   ],
   "source": [
    "%cd ../.."
   ]
  },
  {
   "cell_type": "code",
   "execution_count": 4,
   "metadata": {},
   "outputs": [
    {
     "ename": "FileNotFoundError",
     "evalue": "[Errno 2] No such file or directory: '/Users/julianzabbarov/Documents/HPI/data/sauen/tiles/unfiltered_files/0'",
     "output_type": "error",
     "traceback": [
      "\u001b[0;31m---------------------------------------------------------------------------\u001b[0m",
      "\u001b[0;31mFileNotFoundError\u001b[0m                         Traceback (most recent call last)",
      "Cell \u001b[0;32mIn [4], line 42\u001b[0m\n\u001b[1;32m     39\u001b[0m output_folder \u001b[38;5;241m=\u001b[39m os\u001b[38;5;241m.\u001b[39mgetcwd() \u001b[38;5;241m+\u001b[39m \u001b[38;5;124m\"\u001b[39m\u001b[38;5;124m/data/sauen/tiles/filtered\u001b[39m\u001b[38;5;124m\"\u001b[39m\n\u001b[1;32m     41\u001b[0m \u001b[38;5;66;03m# Filter the TIFF files\u001b[39;00m\n\u001b[0;32m---> 42\u001b[0m \u001b[43mfilter_tiff_files\u001b[49m\u001b[43m(\u001b[49m\u001b[43minput_folder\u001b[49m\u001b[43m,\u001b[49m\u001b[43m \u001b[49m\u001b[43moutput_folder\u001b[49m\u001b[43m)\u001b[49m\n",
      "Cell \u001b[0;32mIn [4], line 27\u001b[0m, in \u001b[0;36mfilter_tiff_files\u001b[0;34m(input_folder, output_folder)\u001b[0m\n\u001b[1;32m     24\u001b[0m os\u001b[38;5;241m.\u001b[39mmakedirs(output_folder, exist_ok\u001b[38;5;241m=\u001b[39m\u001b[38;5;28;01mTrue\u001b[39;00m)\n\u001b[1;32m     26\u001b[0m \u001b[38;5;66;03m# Iterate over all files in the input folder\u001b[39;00m\n\u001b[0;32m---> 27\u001b[0m \u001b[38;5;28;01mfor\u001b[39;00m filename \u001b[38;5;129;01min\u001b[39;00m \u001b[43mos\u001b[49m\u001b[38;5;241;43m.\u001b[39;49m\u001b[43mlistdir\u001b[49m\u001b[43m(\u001b[49m\u001b[43minput_folder\u001b[49m\u001b[43m)\u001b[49m:\n\u001b[1;32m     28\u001b[0m     \u001b[38;5;28;01mif\u001b[39;00m filename\u001b[38;5;241m.\u001b[39mlower()\u001b[38;5;241m.\u001b[39mendswith(\u001b[38;5;124m'\u001b[39m\u001b[38;5;124m.tif\u001b[39m\u001b[38;5;124m'\u001b[39m) \u001b[38;5;129;01mor\u001b[39;00m filename\u001b[38;5;241m.\u001b[39mlower()\u001b[38;5;241m.\u001b[39mendswith(\u001b[38;5;124m'\u001b[39m\u001b[38;5;124m.tiff\u001b[39m\u001b[38;5;124m'\u001b[39m):\n\u001b[1;32m     29\u001b[0m         file_path \u001b[38;5;241m=\u001b[39m os\u001b[38;5;241m.\u001b[39mpath\u001b[38;5;241m.\u001b[39mjoin(input_folder, filename)\n",
      "\u001b[0;31mFileNotFoundError\u001b[0m: [Errno 2] No such file or directory: '/Users/julianzabbarov/Documents/HPI/data/sauen/tiles/unfiltered_files/0'"
     ]
    }
   ],
   "source": [
    "from PIL import Image\n",
    "import os\n",
    "\n",
    "def has_transparent_pixels(image_path):\n",
    "    \"\"\"\n",
    "    Check if an image has any transparent pixels.\n",
    "    Returns True if transparent pixels are found, otherwise False.\n",
    "    \"\"\"\n",
    "    with Image.open(image_path) as img:\n",
    "        # Ensure the image has an alpha channel\n",
    "        if img.mode in ('RGBA', 'LA') or (img.mode == 'P' and 'transparency' in img.info):\n",
    "            alpha = img.getchannel('A')\n",
    "            # Check if any pixel is not fully opaque (255)\n",
    "            if alpha.getextrema()[0] < 255:\n",
    "                return True\n",
    "    return False\n",
    "\n",
    "def filter_tiff_files(input_folder, output_folder):\n",
    "    \"\"\"\n",
    "    Filters TIFF files in the input folder and copies those\n",
    "    without transparent pixels to the output folder.\n",
    "    \"\"\"\n",
    "    # Ensure the output folder exists\n",
    "    os.makedirs(output_folder, exist_ok=True)\n",
    "\n",
    "    # Iterate over all files in the input folder\n",
    "    for filename in os.listdir(input_folder):\n",
    "        if filename.lower().endswith('.tif') or filename.lower().endswith('.tiff'):\n",
    "            file_path = os.path.join(input_folder, filename)\n",
    "            if not has_transparent_pixels(file_path):\n",
    "                # Copy the file to the output folder if no transparent pixels are found\n",
    "                output_path = os.path.join(output_folder, filename)\n",
    "                with Image.open(file_path) as img:\n",
    "                    img.save(output_path)\n",
    "                print(f\"Copied {filename} to {output_folder}\")\n",
    "\n",
    "# Define the input and output folders\n",
    "input_folder = os.getcwd() + \"/data/sauen/tiles/unfiltered_files/0\"\n",
    "output_folder = os.getcwd() + \"/data/sauen/tiles/filtered\"\n",
    "\n",
    "# Filter the TIFF files\n",
    "filter_tiff_files(input_folder, output_folder)"
   ]
  },
  {
   "cell_type": "code",
   "execution_count": null,
   "metadata": {},
   "outputs": [],
   "source": []
  }
 ],
 "metadata": {
  "kernelspec": {
   "display_name": "aavsd",
   "language": "python",
   "name": "python3"
  },
  "language_info": {
   "codemirror_mode": {
    "name": "ipython",
    "version": 3
   },
   "file_extension": ".py",
   "mimetype": "text/x-python",
   "name": "python",
   "nbconvert_exporter": "python",
   "pygments_lexer": "ipython3",
   "version": "3.12.3"
  }
 },
 "nbformat": 4,
 "nbformat_minor": 2
}

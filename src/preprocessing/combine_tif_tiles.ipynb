{
 "cells": [
  {
   "cell_type": "code",
   "execution_count": 1,
   "metadata": {},
   "outputs": [
    {
     "name": "stdout",
     "output_type": "stream",
     "text": [
      "/Users/julianzabbarov/Documents/HPI/Analysis_and_Visualization_of_Spatial_Data/tree-detection\n"
     ]
    }
   ],
   "source": [
    "%cd ../.."
   ]
  },
  {
   "cell_type": "code",
   "execution_count": 2,
   "metadata": {},
   "outputs": [
    {
     "name": "stdout",
     "output_type": "stream",
     "text": [
      "6_1.tif\n",
      "4_2.tif\n",
      "6_2.tif\n",
      "4_1.tif\n",
      "2_1.tif\n",
      "5_1.tif\n",
      "7_1.tif\n",
      "5_2.tif\n",
      "3_1.tif\n",
      "1_1.tif\n",
      "3_2.tif\n"
     ]
    },
    {
     "name": "stderr",
     "output_type": "stream",
     "text": [
      "VipsForeignLoad: \"tile_list.txt\" is not a known file format\n"
     ]
    },
    {
     "ename": "CalledProcessError",
     "evalue": "Command '['vips', 'arrayjoin', 'tile_list.txt', '/Users/julianzabbarov/Documents/HPI/Analysis_and_Visualization_of_Spatial_Data/tree-detection/data/sauen/tiles/combined/output_file.tif', '4000', '4000']' returned non-zero exit status 1.",
     "output_type": "error",
     "traceback": [
      "\u001b[0;31m---------------------------------------------------------------------------\u001b[0m",
      "\u001b[0;31mCalledProcessError\u001b[0m                        Traceback (most recent call last)",
      "Cell \u001b[0;32mIn [2], line 37\u001b[0m\n\u001b[1;32m     34\u001b[0m tile_height \u001b[38;5;241m=\u001b[39m \u001b[38;5;241m4000\u001b[39m                   \u001b[38;5;66;03m# Height of each tile\u001b[39;00m\n\u001b[1;32m     36\u001b[0m \u001b[38;5;66;03m# Join the tiles\u001b[39;00m\n\u001b[0;32m---> 37\u001b[0m \u001b[43mjoin_tiles\u001b[49m\u001b[43m(\u001b[49m\u001b[43mtile_folder\u001b[49m\u001b[43m,\u001b[49m\u001b[43m \u001b[49m\u001b[43moutput_file\u001b[49m\u001b[43m,\u001b[49m\u001b[43m \u001b[49m\u001b[43mtile_width\u001b[49m\u001b[43m,\u001b[49m\u001b[43m \u001b[49m\u001b[43mtile_height\u001b[49m\u001b[43m)\u001b[49m\n",
      "Cell \u001b[0;32mIn [2], line 22\u001b[0m, in \u001b[0;36mjoin_tiles\u001b[0;34m(tile_folder, output_file, tile_width, tile_height)\u001b[0m\n\u001b[1;32m     19\u001b[0m         f\u001b[38;5;241m.\u001b[39mwrite(\u001b[38;5;124mf\u001b[39m\u001b[38;5;124m\"\u001b[39m\u001b[38;5;132;01m{\u001b[39;00mtile\u001b[38;5;132;01m}\u001b[39;00m\u001b[38;5;130;01m\\n\u001b[39;00m\u001b[38;5;124m\"\u001b[39m)\n\u001b[1;32m     21\u001b[0m \u001b[38;5;66;03m# Use vips arrayjoin to join the tiles\u001b[39;00m\n\u001b[0;32m---> 22\u001b[0m \u001b[43msubprocess\u001b[49m\u001b[38;5;241;43m.\u001b[39;49m\u001b[43mrun\u001b[49m\u001b[43m(\u001b[49m\u001b[43m[\u001b[49m\n\u001b[1;32m     23\u001b[0m \u001b[43m    \u001b[49m\u001b[38;5;124;43m'\u001b[39;49m\u001b[38;5;124;43mvips\u001b[39;49m\u001b[38;5;124;43m'\u001b[39;49m\u001b[43m,\u001b[49m\u001b[43m \u001b[49m\u001b[38;5;124;43m'\u001b[39;49m\u001b[38;5;124;43marrayjoin\u001b[39;49m\u001b[38;5;124;43m'\u001b[39;49m\u001b[43m,\u001b[49m\u001b[43m \u001b[49m\u001b[43mtile_list_file\u001b[49m\u001b[43m,\u001b[49m\u001b[43m \u001b[49m\u001b[43moutput_file\u001b[49m\u001b[43m,\u001b[49m\n\u001b[1;32m     24\u001b[0m \u001b[43m    \u001b[49m\u001b[38;5;124;43mf\u001b[39;49m\u001b[38;5;124;43m'\u001b[39;49m\u001b[38;5;132;43;01m{\u001b[39;49;00m\u001b[43mtile_width\u001b[49m\u001b[38;5;132;43;01m}\u001b[39;49;00m\u001b[38;5;124;43m'\u001b[39;49m\u001b[43m,\u001b[49m\u001b[43m \u001b[49m\u001b[38;5;124;43mf\u001b[39;49m\u001b[38;5;124;43m'\u001b[39;49m\u001b[38;5;132;43;01m{\u001b[39;49;00m\u001b[43mtile_height\u001b[49m\u001b[38;5;132;43;01m}\u001b[39;49;00m\u001b[38;5;124;43m'\u001b[39;49m\n\u001b[1;32m     25\u001b[0m \u001b[43m\u001b[49m\u001b[43m]\u001b[49m\u001b[43m,\u001b[49m\u001b[43m \u001b[49m\u001b[43mcheck\u001b[49m\u001b[38;5;241;43m=\u001b[39;49m\u001b[38;5;28;43;01mTrue\u001b[39;49;00m\u001b[43m)\u001b[49m\n\u001b[1;32m     27\u001b[0m \u001b[38;5;66;03m# Clean up the temporary file\u001b[39;00m\n\u001b[1;32m     28\u001b[0m os\u001b[38;5;241m.\u001b[39mremove(tile_list_file)\n",
      "File \u001b[0;32m~/Software/miniconda3/envs/aavsd/lib/python3.11/subprocess.py:571\u001b[0m, in \u001b[0;36mrun\u001b[0;34m(input, capture_output, timeout, check, *popenargs, **kwargs)\u001b[0m\n\u001b[1;32m    569\u001b[0m     retcode \u001b[38;5;241m=\u001b[39m process\u001b[38;5;241m.\u001b[39mpoll()\n\u001b[1;32m    570\u001b[0m     \u001b[38;5;28;01mif\u001b[39;00m check \u001b[38;5;129;01mand\u001b[39;00m retcode:\n\u001b[0;32m--> 571\u001b[0m         \u001b[38;5;28;01mraise\u001b[39;00m CalledProcessError(retcode, process\u001b[38;5;241m.\u001b[39margs,\n\u001b[1;32m    572\u001b[0m                                  output\u001b[38;5;241m=\u001b[39mstdout, stderr\u001b[38;5;241m=\u001b[39mstderr)\n\u001b[1;32m    573\u001b[0m \u001b[38;5;28;01mreturn\u001b[39;00m CompletedProcess(process\u001b[38;5;241m.\u001b[39margs, retcode, stdout, stderr)\n",
      "\u001b[0;31mCalledProcessError\u001b[0m: Command '['vips', 'arrayjoin', 'tile_list.txt', '/Users/julianzabbarov/Documents/HPI/Analysis_and_Visualization_of_Spatial_Data/tree-detection/data/sauen/tiles/combined/output_file.tif', '4000', '4000']' returned non-zero exit status 1."
     ]
    }
   ],
   "source": [
    "import os\n",
    "import subprocess\n",
    "\n",
    "def join_tiles(tile_folder, output_file, tile_width, tile_height):\n",
    "    # Collect the list of tile files\n",
    "    tile_files = []\n",
    "    for file in os.listdir(tile_folder):\n",
    "        print(file)\n",
    "        if file.endswith('.tif'):\n",
    "            tile_files.append(os.path.join(tile_folder, file))\n",
    "    \n",
    "    # Ensure the tile files are sorted correctly\n",
    "    tile_files.sort()\n",
    "    \n",
    "    # Create a temporary file to list the tiles\n",
    "    tile_list_file = 'tile_list.txt'\n",
    "    with open(tile_list_file, 'w') as f:\n",
    "        for tile in tile_files:\n",
    "            f.write(f\"{tile}\\n\")\n",
    "    \n",
    "    # Use vips arrayjoin to join the tiles\n",
    "    subprocess.run([\n",
    "        'vips', 'arrayjoin', tile_list_file, output_file,\n",
    "        f'{tile_width}', f'{tile_height}'\n",
    "    ], check=True)\n",
    "\n",
    "    # Clean up the temporary file\n",
    "    os.remove(tile_list_file)\n",
    "\n",
    "# Define parameters\n",
    "tile_folder = os.getcwd() + '/data/sauen/tiles/filtered'  # Folder containing the tiles\n",
    "output_file = os.getcwd() + '/data/sauen/tiles/combined/' + 'output_file.tif'      # Path for the output joined file\n",
    "tile_width = 4000                    # Width of each tile\n",
    "tile_height = 4000                   # Height of each tile\n",
    "\n",
    "# Join the tiles\n",
    "join_tiles(tile_folder, output_file, tile_width, tile_height)\n"
   ]
  }
 ],
 "metadata": {
  "kernelspec": {
   "display_name": "aavsd",
   "language": "python",
   "name": "python3"
  },
  "language_info": {
   "codemirror_mode": {
    "name": "ipython",
    "version": 3
   },
   "file_extension": ".py",
   "mimetype": "text/x-python",
   "name": "python",
   "nbconvert_exporter": "python",
   "pygments_lexer": "ipython3",
   "version": "3.12.3"
  }
 },
 "nbformat": 4,
 "nbformat_minor": 2
}
